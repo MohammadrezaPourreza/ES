{
  "nbformat": 4,
  "nbformat_minor": 0,
  "metadata": {
    "colab": {
      "name": "ES(1+1).ipynb",
      "provenance": [],
      "collapsed_sections": [],
      "authorship_tag": "ABX9TyObZdGV0wzwhEeLbU8y47Ep",
      "include_colab_link": true
    },
    "kernelspec": {
      "name": "python3",
      "display_name": "Python 3"
    },
    "language_info": {
      "name": "python"
    }
  },
  "cells": [
    {
      "cell_type": "markdown",
      "metadata": {
        "id": "view-in-github",
        "colab_type": "text"
      },
      "source": [
        "<a href=\"https://colab.research.google.com/github/MohammadrezaPourreza/ES/blob/main/ES(1%2B1).ipynb\" target=\"_parent\"><img src=\"https://colab.research.google.com/assets/colab-badge.svg\" alt=\"Open In Colab\"/></a>"
      ]
    },
    {
      "cell_type": "code",
      "metadata": {
        "id": "pnrj9DPEqzFs"
      },
      "source": [
        "import numpy as np"
      ],
      "execution_count": 14,
      "outputs": []
    },
    {
      "cell_type": "markdown",
      "metadata": {
        "id": "-Qeo4Xrinu0r"
      },
      "source": [
        "**Defining the objective function**"
      ]
    },
    {
      "cell_type": "code",
      "metadata": {
        "id": "mI52Vqakku8G"
      },
      "source": [
        "def objective(x,n):\n",
        "  output = 0\n",
        "  for i in range(1 , n):\n",
        "    output += 100*(x[i] - (x[i-1])**2)**2 + (x[i-1]-1)**2 \n",
        "  return output"
      ],
      "execution_count": 47,
      "outputs": []
    },
    {
      "cell_type": "markdown",
      "metadata": {
        "id": "iBRFm0P-qi9c"
      },
      "source": [
        "**Creating the next generation**"
      ]
    },
    {
      "cell_type": "code",
      "metadata": {
        "id": "jSaoFV2DqvuH"
      },
      "source": [
        "def make_child(parent,sigma,n,bound):\n",
        "  k = parent + sigma*np.random.normal(size = n)\n",
        "  k = np.clip(k,*bound)\n",
        "  return k"
      ],
      "execution_count": 123,
      "outputs": []
    },
    {
      "cell_type": "code",
      "metadata": {
        "id": "P2l3YrFxnz5Y"
      },
      "source": [
        "#initializing the variables\n",
        "N = 2\n",
        "DNA_BOUND = [-30,30]\n",
        "Generations = 10000\n",
        "sigma = np.random.rand()\n",
        "delta = 0.95\n",
        "success = 1.0\n",
        "parent = np.random.uniform(*DNA_BOUND , N)\n",
        "fp = objective(parent,N)"
      ],
      "execution_count": 197,
      "outputs": []
    },
    {
      "cell_type": "markdown",
      "metadata": {
        "id": "WfUD-cQ4uU6o"
      },
      "source": [
        "**selection method**"
      ]
    },
    {
      "cell_type": "code",
      "metadata": {
        "id": "xvqdU2GkuYgf"
      },
      "source": [
        "def selection(parent,child):\n",
        "  global success\n",
        "  global N\n",
        "  global fp\n",
        "  fc = objective(child,N)\n",
        "  if fc < fp :\n",
        "    parent = child\n",
        "    fp = fc\n",
        "    success += 1\n",
        "  return parent"
      ],
      "execution_count": 173,
      "outputs": []
    },
    {
      "cell_type": "markdown",
      "metadata": {
        "id": "8J-bba7SvIRI"
      },
      "source": [
        "**update sigma**"
      ]
    },
    {
      "cell_type": "code",
      "metadata": {
        "id": "RwmLvmwovMYg"
      },
      "source": [
        "def update_sigma(iteration):\n",
        "  global sigma\n",
        "  global success\n",
        "  global delta\n",
        "  ratio = success / iteration\n",
        "  if ratio < 0.2:\n",
        "    sigma = sigma * delta\n",
        "  elif ratio > 0.2:\n",
        "    sigma = sigma / delta\n",
        "  return sigma\n",
        "  "
      ],
      "execution_count": 101,
      "outputs": []
    },
    {
      "cell_type": "code",
      "metadata": {
        "colab": {
          "base_uri": "https://localhost:8080/"
        },
        "id": "Dd3J7TRTxmVN",
        "outputId": "13d8c1d5-0f30-4a45-ab36-c08db09a44c2"
      },
      "source": [
        "#Algorithm\n",
        "for i in range(1, Generations+1):\n",
        "  child = make_child(parent,sigma,N,DNA_BOUND)\n",
        "  parent = selection(parent,child)\n",
        "  sigma = update_sigma(i)\n",
        "print(\"success ratio is: \" +str(success/Generations))\n",
        "print(\"last gene is: \"+ str(parent))\n",
        "print(\"last gene objective value: \"+str(fp))"
      ],
      "execution_count": 205,
      "outputs": [
        {
          "output_type": "stream",
          "name": "stdout",
          "text": [
            "success ratio is: 0.2037\n",
            "last gene is: [2.91787406 8.52979297]\n",
            "last gene objective value: 3.70321739582742\n"
          ]
        }
      ]
    }
  ]
}